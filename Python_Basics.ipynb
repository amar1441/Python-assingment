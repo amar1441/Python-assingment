{
  "nbformat": 4,
  "nbformat_minor": 0,
  "metadata": {
    "colab": {
      "provenance": []
    },
    "kernelspec": {
      "name": "python3",
      "display_name": "Python 3"
    },
    "language_info": {
      "name": "python"
    }
  },
  "cells": [
    {
      "cell_type": "markdown",
      "source": [
        "# Python Basics Questions"
      ],
      "metadata": {
        "id": "PdM6NcZIY1hu"
      }
    },
    {
      "cell_type": "markdown",
      "source": [
        "# Q1-> What is Python, and why is it popular?\n",
        "\n",
        "'''\n",
        "Python is a high-level, interpreted programming language known for its simplicity, readability,\n",
        "and versatility.Created by Guido van Rossum and first released in 1991.\n",
        "\n",
        "here are some reasons why Python is popular:\n",
        "  1. Ease to learn and use\n",
        "  2. versatility\n",
        "  3. Extensive Libraries and Frameworks\n",
        "  4. Cross-platform compatibility and many more.\n",
        "'''"
      ],
      "metadata": {
        "id": "v71o_oiJ1eUm"
      }
    },
    {
      "cell_type": "markdown",
      "source": [
        "# Q2 => What is an interpreter in Python?\n",
        "'''\n",
        "An interpreter in python is a program that executes python code. Unlike compiled\n",
        "languages,where the code is transformed into machine language before execution,\n",
        "Python code is executed line by line by the interpreter.This allows for more immediate\n",
        "feedback during development,making it easier to test and debug code.\n",
        "'''"
      ],
      "metadata": {
        "id": "ocrKnDIu29M8"
      }
    },
    {
      "cell_type": "markdown",
      "source": [
        "# Q3. =>  What are pre-defined keywords in Python?\n",
        "'''\n",
        "In Python, predefined keywords, also known as reserved keywords, are words that have\n",
        "special meaning and are reseved by the language for specific function or operations.\n",
        "\n",
        "  - False,  await, else, import, pass ,None, break, except, in,\n",
        "    True,   class, finally, is, return,  and, continue, for, lambda,\n",
        "    try, if , elif , or , and many more."
      ],
      "metadata": {
        "id": "RA-4v9RM3CUw"
      }
    },
    {
      "cell_type": "markdown",
      "source": [
        "# Q4. =>Can keywords be used as variable names?\n",
        "'''\n",
        "No, keywords in python cannot be used as variable names. Keywords are reserved words that have\n",
        "special meaning and function in the python language. Using a keyword as a variable name would\n",
        "cause a syntax error because the interpreter would not be able to distinguish between the keyword's\n",
        "predefined function and the intended use as a variable.\n",
        "'''\n",
        "\n",
        "if = 10 # This is invalid and this will cause a syntax error.\n",
        "my_variable =7 #This is valid variable."
      ],
      "metadata": {
        "id": "4G4TMvSg3GMb"
      }
    },
    {
      "cell_type": "markdown",
      "source": [
        "# Q5. => What is mutability in Python?\n",
        "'''\n",
        "In python, Mutability refers to whether or not an object's state can be changed after it is\n",
        "created. Objects that can be changed after they are created are called mutable, while objects\n",
        "that cannot be changed are called immutable.\n",
        "  Lists: You can add, remove, or modify elements in a list.\n",
        "  Dictionaries: You can add,removed, or modify key-value pairs.\n",
        "'''\n",
        "\n",
        "my_list = [1,2,45]\n",
        "my_list.append(4)\n",
        "my_list[2] =0"
      ],
      "metadata": {
        "id": "8-NpO0GE3PNq"
      }
    },
    {
      "cell_type": "markdown",
      "source": [
        "# Q6. =>  Why are lists mutable, but tuples are immutable?\n",
        "'''\n",
        "Lists: Mutable- List are designed to be dynamic and flexible, allowing for elements to be \\\n",
        "        added, removed, or changed.This makes them very useful for situations where the data needs to\n",
        "        be modified frequently.\n",
        "      Use Case- List are ideal for maintaining collections of items that may need to be updated,\n",
        "       such as a to-do list, a list of user inputs, or any data that requires frequent changes.\n",
        "Tuples: Immutable- Tuples are designed to be immutable, meaning their elements cannot be changed once\n",
        "          they are create. This immutability ensures that the data ramains constant and cannot be altered\n",
        "          accidentally, which can be beneficial for certain applications.\n",
        "        Use Case- Tuples are ideal for representing fixed collections of items, such as coordintes(X,Y)\n",
        "         RGB color values, or any group of values that should not change throughout the program.\n",
        "\n",
        "Design Philosophy: The design of Python emphasizes readability and simplicity.\n",
        "    The distinction between mutable and immutable types helps in creating clear and\n",
        "    predictable code. Mutable types like lists are flexible and easy to work with when\n",
        "    modifications are needed, whereas immutable types like tuples provide safety and integrity\n",
        "    for data that should remain constant.\n",
        "\n",
        "Performance Considerations: Immutable objects can be optimized in ways mutable objects cannot.\n",
        "    For example, the immutability of tuples allows for certain performance improvements,\n",
        "    such as caching and faster access time.\n",
        "'''"
      ],
      "metadata": {
        "id": "zrtlFndD3Qad"
      }
    },
    {
      "cell_type": "markdown",
      "source": [
        "# Q7. =>  What is the difference between “==” and “is” operators in Python\n",
        "'''\n",
        "In python, the == and is operator are used for comparison, but they serve different purposes:\n",
        " 1) '==' Operator:- This operator checks for value equality. It compares the values\n",
        "        of two objects to see if they are equal.\n",
        " 2) 'is' Operator:- This operator checks for identity equality. It compares the memory\n",
        "        addresses of two objects to see if they are same object.\n",
        "'''\n",
        "\n",
        "a = [1,2,4]\n",
        "b = [1,2,4]\n",
        "print(a == b) # True\n",
        "print(a is b) # False"
      ],
      "metadata": {
        "id": "MpRRxfb63UT9"
      }
    },
    {
      "cell_type": "markdown",
      "source": [
        "# Q8. => What are logical operators in Python?\n",
        "'''\n",
        "Locial operators in python are used to combine conditional statements. They are\n",
        "essential in makeing decisons and controlling the flow of your programs. Here are the logical\n",
        "operators.\n",
        "          1)and: This operator returns 'True' if both statement are true.\n",
        "          2)or: This operator return 'True' if at leats one of the statements is true.\n",
        "          3)not: This operator return 'True' if the statement is false(it inverts the result).\n",
        "'''\n",
        "x = 5\n",
        "print(x > 3 and x < 10 ) #Output: True  (and)\n",
        "print(x > 3 or x < 10) #Output: True  (or)\n",
        "print(not x > 3) #Output: False (not)"
      ],
      "metadata": {
        "id": "CTYW7fPk3WrC"
      }
    },
    {
      "cell_type": "markdown",
      "source": [
        "# Q9. =>  What is type casting in Python?\n",
        "'''\n",
        "Type cating in python, also known as type conversion, is the process of converting a\n",
        "variable from one data type to another. This is useful when you need to perform\n",
        "operations that require variables to be of the same data type.\n",
        "\n",
        "1) Implicit type casting: This is performed automaticlly by python when it encounters a\n",
        "    situation where it needs to covert one data type to another.\n",
        "\n",
        "2) Explicit type casting: This is preformed manually by the programmer using bulit in funcuons\n",
        "    like int(), float(), str(), etc.\n",
        "'''\n",
        "\n",
        "x = '10' # string\n",
        "y = 2.5 # float  (implicit)\n",
        "z = int(x) #convert 'x' to interger (Explicit)\n",
        "w = float(x) # convert 'x' to float\n",
        "print(y+w) # output: 12.5"
      ],
      "metadata": {
        "id": "A-TSPy6h3ZKg"
      }
    },
    {
      "cell_type": "markdown",
      "source": [
        "# Q10. => What is the difference between implicit and explicit type casting?\n",
        "'''\n",
        "1) Automatic vs Manual: Impliciat type cating is performed automatically by python,\n",
        "whereas explicit type casting is performed manually by the programmer.\n",
        "\n",
        "2) Control: Expliciat Type casting gives more control to the progrmmer over how and when the\n",
        "conversion occurs.\n",
        "\n",
        "3) Safety: Impliciat type casting is generally safe and prevents data loss, while explicit\n",
        "type casting requries careful handling to avoid errors or data loss.\n",
        "'''"
      ],
      "metadata": {
        "id": "dPalnQfi3cbH"
      }
    },
    {
      "cell_type": "markdown",
      "source": [
        "# Q11. => What is the purpose of conditional statements in Python?\n",
        "'''\n",
        "Conditional statements in python are essential for controlling the flow of your program.\n",
        "They allow your code to make decisions and execute specific actions based on certain\n",
        "conditions.Here are the primary purposes and uses of conditional statements:\n",
        "1) Decision Making : Conditional statement let your program decide what action to\n",
        "      take based on whether a condition is true or false.\n",
        "2) Control Flow: They control the flow of the program by branching into different\n",
        "      paths depending on the conditions.\n",
        "3) Loop Control: Conditional statements are also used within loops to control iteration\n",
        "      and exit conditions.\n",
        "4) Error Handling: They can be used to handle errors and exceptions gracefully\n",
        "      by checking for specific condition and taking appropriate actions.\n",
        "'''"
      ],
      "metadata": {
        "id": "nr1SSmd-3fD_"
      }
    },
    {
      "cell_type": "markdown",
      "source": [
        "# Q12. =>  How does the elif statement work?\n",
        "'''\n",
        "The elif statement in python is used to handle multiple conditions. It stands for\n",
        "'else if' and allows you to check additional conditions if the previous if or (elif)\n",
        "conditions was not true. This helps create more complex decision-making structures\n",
        "in your programs.\n",
        "'''\n",
        "x = 20\n",
        "if x > 20:\n",
        "  print('x is greater than 20')\n",
        "elif x > 10:\n",
        "  print(\"x is greater than 10 but less than or equal to 20\")\n",
        "elif x > 5:\n",
        "  print(\"x is greater than 5 but less than or equal to 10\")\n",
        "else:\n",
        "  print(\"x is 5 or less\")"
      ],
      "metadata": {
        "id": "2n-ZJFsV3hTu"
      }
    },
    {
      "cell_type": "markdown",
      "source": [
        "# Q13. => What is the difference between for and while loops?\n",
        "'''\n",
        "Iteration Basis:\n",
        "                \"for\":- Iteration over a sequence or a range of numbers.\n",
        "                \"While\":- Continues as long as a spwecified cindition is True.\n",
        "Use Cases:\n",
        "                \"for\":- Best for iterating over a collection of items where the number of\n",
        "                    iterations is predtermined.\n",
        "                \"while\":- Best for situations where the iteration needs to continue until a\n",
        "                    condition is no longer met, which may not be known in advance.\n",
        "'''\n",
        "for in in range(5):\n",
        "  print(i)\n",
        "\n",
        "i = 0\n",
        "while i < 5:\n",
        "  print(i)\n",
        "  i += 1"
      ],
      "metadata": {
        "id": "XaoqgJ-k3l6f"
      }
    },
    {
      "cell_type": "markdown",
      "source": [
        "# Q14. => Describe a scenario where a while loop is more suitable than a for loop?\n",
        "'''\n",
        "A while loop is pariticularly suitable for scenarios where the number of iterations\n",
        "is not known beforehand and depends on a condition that may change during execution.\n",
        "'''\n",
        "# Let understand the scenario where the while loop is best in class:\n",
        "correct_password = \"Ashish_saini_1\"\n",
        "user_input = \"\"\n",
        "while user_input != correct_password:\n",
        "  user_input = input(\"Enter the password: \")\n",
        "  if user_input == correct_password:\n",
        "    print(\"Password is correct and access is grandted! \")\n",
        "  else:\n",
        "    print(\"Incorrect password, Try again. \")\n",
        "print(\"End of program! \")"
      ],
      "metadata": {
        "id": "q0cTaxzD3pj6"
      }
    },
    {
      "cell_type": "markdown",
      "source": [
        "# Practical Questions"
      ],
      "metadata": {
        "id": "KvmE1p2p4kmm"
      }
    },
    {
      "cell_type": "code",
      "execution_count": null,
      "metadata": {
        "colab": {
          "base_uri": "https://localhost:8080/"
        },
        "id": "XDqi3Hp7cTOh",
        "outputId": "062409b7-7a5f-481a-9d4a-d03ef5bd273b"
      },
      "outputs": [
        {
          "output_type": "stream",
          "name": "stdout",
          "text": [
            "Hello, World!\n"
          ]
        }
      ],
      "source": [
        "#1 Write a Python program to print \"Hello, World!\n",
        "print('Hello, World!')\n"
      ]
    },
    {
      "cell_type": "code",
      "source": [
        "#2 Write a Python program that displays your name and age\n",
        "Name = 'Amardeep singh'\n",
        "Age = '23'\n",
        "print(Name)\n",
        "print(Age)"
      ],
      "metadata": {
        "colab": {
          "base_uri": "https://localhost:8080/"
        },
        "id": "8NdOJTG5b7rd",
        "outputId": "e013e83b-67f9-4e7c-f3d3-4582015c1498"
      },
      "execution_count": null,
      "outputs": [
        {
          "output_type": "stream",
          "name": "stdout",
          "text": [
            " My name is Amardeep singh\n",
            "My age is 23\n"
          ]
        }
      ]
    },
    {
      "cell_type": "code",
      "source": [
        "#3  Write code to print all the pre-defined keywords in Python using the keyword library\n",
        "\n",
        "help('keywords')"
      ],
      "metadata": {
        "colab": {
          "base_uri": "https://localhost:8080/"
        },
        "id": "i7h_EvidY86t",
        "outputId": "89f1c062-1c6a-49c3-f5f0-59ae601b24c5"
      },
      "execution_count": null,
      "outputs": [
        {
          "output_type": "stream",
          "name": "stdout",
          "text": [
            "\n",
            "Here is a list of the Python keywords.  Enter any keyword to get more help.\n",
            "\n",
            "False               class               from                or\n",
            "None                continue            global              pass\n",
            "True                def                 if                  raise\n",
            "and                 del                 import              return\n",
            "as                  elif                in                  try\n",
            "assert              else                is                  while\n",
            "async               except              lambda              with\n",
            "await               finally             nonlocal            yield\n",
            "break               for                 not                 \n",
            "\n"
          ]
        }
      ]
    },
    {
      "cell_type": "code",
      "source": [
        "#4  Write a program that checks if a given word is a Python keyword.\n",
        "\n",
        "import keyword\n",
        "word = input(\"Enter a word: \")\n",
        "if keyword.iskeyword(word):\n",
        "  print(f\"{word} is a python keyword\")\n",
        "else:\n",
        "  print(f\"{word} is not a python keyword\")"
      ],
      "metadata": {
        "colab": {
          "base_uri": "https://localhost:8080/"
        },
        "id": "iv8OX2MVZ325",
        "outputId": "c44ffc3b-7169-4cbe-ab78-05dd1bf2ed0b"
      },
      "execution_count": null,
      "outputs": [
        {
          "output_type": "stream",
          "name": "stdout",
          "text": [
            "Enter a word: False\n",
            "False is a python keyword\n"
          ]
        }
      ]
    },
    {
      "cell_type": "code",
      "source": [
        "#5 Create a list and tuple in Python, and demonstrate how attempting to change an element works differently for each.\n",
        "\n",
        "Fruit_list= ['apple', 'orange', 'grapes', 'mango', 'cherry']   # Fruit_list is a list, as the list is muttable we can replace the strings or list elements with any other exteral element.\n",
        "print(Fruit_list)\n",
        "Fruit_list [1] #as Fruit_list 1 is 'orange', we can replace it with 'banana\n",
        "print(Fruit_list [1])\n",
        "Fruit_list [1] = 'banana'\n",
        "print(Fruit_list)\n",
        "type(Fruit_list)"
      ],
      "metadata": {
        "colab": {
          "base_uri": "https://localhost:8080/"
        },
        "id": "LqEJrp2zq2j3",
        "outputId": "c91e3c76-e655-43fd-c698-01b94ed2d6a2"
      },
      "execution_count": null,
      "outputs": [
        {
          "output_type": "stream",
          "name": "stdout",
          "text": [
            "['apple', 'orange', 'grapes', 'mango', 'cherry']\n",
            "orange\n",
            "['apple', 'banana', 'grapes', 'mango', 'cherry']\n"
          ]
        },
        {
          "output_type": "execute_result",
          "data": {
            "text/plain": [
              "list"
            ]
          },
          "metadata": {},
          "execution_count": 78
        }
      ]
    },
    {
      "cell_type": "code",
      "source": [
        "Fruit_tuple =('apple','orange', 'grapes',' mango', 'cherry') # Fruit_tuple is immutable, we cannot replace the strings or tuple elements with external elements, it will through an error.\n",
        "type(Fruit_tuple)\n",
        "print(type(Fruit_tuple))\n",
        "Fruit_tuple[1]\n",
        "print(Fruit_tuple[1])\n",
        "Fruit_tuple[1]= 'banana' # it is throughing error"
      ],
      "metadata": {
        "id": "ilVuxHtltw49"
      },
      "execution_count": null,
      "outputs": []
    },
    {
      "cell_type": "code",
      "source": [
        "#6  Write a function to demonstrate the behavior of mutable and immutable arguments.\n",
        "\n",
        "# Immutable arguments\n",
        "# tuples and strings are immutable, as elements inside the parenthesis() and \"\"(comas) cannot be replaced or interchanged by external elements, lets show with their incides.\n",
        "\n",
        "a = 'Amamrdeep'\n",
        "print(type(a))\n",
        "print(a[1])\n",
        "a[1] = 'b' #its giving an error, and same as in the case of tuples and we already seen in the question 5.\n",
        "\n",
        "# Mutable arguments\n",
        "# list is muttable we can replace the strings or list elements with any other exteral element.\n",
        "\n",
        "# Mutable arguments\n",
        "# list is muttable we can replace the strings or list elements with any other exteral element.\n",
        "\n",
        "Fruit_list= ['apple', 'orange', 'grapes', 'mango', 'cherry']\n",
        "print(Fruit_list)\n",
        "Fruit_list [1] #as Fruit_list 1 is 'orange', we can replace it with 'banana\n",
        "print(Fruit_list [1])\n",
        "Fruit_list [1] = 'banana'\n",
        "print(Fruit_list)\n",
        "type(Fruit_list)\n",
        "\n"
      ],
      "metadata": {
        "colab": {
          "base_uri": "https://localhost:8080/"
        },
        "id": "dMDzLxVb0-v6",
        "outputId": "542295dc-3ef9-41ef-886d-138dbfe46ed2"
      },
      "execution_count": null,
      "outputs": [
        {
          "output_type": "stream",
          "name": "stdout",
          "text": [
            "['apple', 'orange', 'grapes', 'mango', 'cherry']\n",
            "orange\n",
            "['apple', 'banana', 'grapes', 'mango', 'cherry']\n"
          ]
        },
        {
          "output_type": "execute_result",
          "data": {
            "text/plain": [
              "list"
            ]
          },
          "metadata": {},
          "execution_count": 87
        }
      ]
    },
    {
      "cell_type": "code",
      "source": [
        "# 7. Write a program that performs basic arithmetic operations on two user-input numbers.\n",
        "\n",
        "a = 5\n",
        "b = 2\n",
        "# addition\n",
        "print(a+b)\n",
        "\n",
        "#subtraction\n",
        "print(a-b)\n",
        "\n",
        "# multiplication\n",
        "print(a*b)\n",
        "\n",
        "# division\n",
        "print(a/b)\n",
        "\n",
        "# Modulus\n",
        "print(a%b)\n",
        "\n",
        "# Exponential\n",
        "print(a**b)\n",
        "\n",
        "# Floor division\n",
        "print(a//b)\n"
      ],
      "metadata": {
        "colab": {
          "base_uri": "https://localhost:8080/"
        },
        "id": "USGRtIb34gAN",
        "outputId": "0e983ca4-5d3f-41f5-903f-d389c998115f"
      },
      "execution_count": null,
      "outputs": [
        {
          "output_type": "stream",
          "name": "stdout",
          "text": [
            "7\n",
            "3\n",
            "10\n",
            "2.5\n",
            "1\n",
            "25\n",
            "2\n"
          ]
        }
      ]
    },
    {
      "cell_type": "code",
      "source": [
        "# 8. Write a program to demonstrate the use of logical operators.\n",
        "\n",
        "c= 50\n",
        "d= 20\n",
        "\n",
        "# 'and' operator\n",
        "\n",
        "print(c > 100 and d > 100)\n",
        "\n",
        "# 'or'operator\n",
        "\n",
        "print(c< 10 or d>10)\n",
        "\n",
        "# 'not' operator\n",
        "\n",
        "print(not(c<100 or d<100))"
      ],
      "metadata": {
        "id": "AzXSxm5R5Slh",
        "colab": {
          "base_uri": "https://localhost:8080/"
        },
        "outputId": "e1ad9e1c-53c5-41c4-cb47-bb18c0a3d858"
      },
      "execution_count": null,
      "outputs": [
        {
          "output_type": "stream",
          "name": "stdout",
          "text": [
            "False\n",
            "True\n",
            "False\n"
          ]
        }
      ]
    },
    {
      "cell_type": "code",
      "source": [
        "# 9. Write a Python program to convert user input from string to integer, float, and boolean types.\n",
        "\n",
        "user_input = input(\"Enter the string = \")\n",
        "# String the integer conversion\n",
        "try:\n",
        "  integer_value = int(user_input)\n",
        "except ValueError as e:\n",
        "  print(f\"Invalid input {e}. Please enter a valid integer.\")\n",
        "  integer_value = None\n",
        "# String the Float conversion\n",
        "try:\n",
        "  float_value = float(user_input)\n",
        "except ValueError as e:\n",
        "  print(f\"Invalid input {e}. Please enter a valid float.\")\n",
        "  float_value = None\n",
        "# String the Boolean conversion\n",
        "boolean_value = bool(user_input)\n",
        "print(f\"Integer: {integer_value}\")\n",
        "print(f\"Float: {float_value}\")\n",
        "print(f\"Boolean: {boolean_value}\")"
      ],
      "metadata": {
        "colab": {
          "base_uri": "https://localhost:8080/"
        },
        "id": "qw88ZRrr0ucB",
        "outputId": "47998510-1cb3-45a6-e26a-efa7ef06b1bc"
      },
      "execution_count": null,
      "outputs": [
        {
          "output_type": "stream",
          "name": "stdout",
          "text": [
            "Enter the string = 'amar'\n",
            "Invalid input invalid literal for int() with base 10: \"'amar'\". Please enter a valid integer.\n",
            "Invalid input could not convert string to float: \"'amar'\". Please enter a valid float.\n",
            "Integer: None\n",
            "Float: None\n",
            "Boolean: True\n"
          ]
        }
      ]
    },
    {
      "cell_type": "code",
      "source": [
        "# 10. Write code to demonstrate type casting with list elements.\n",
        "\n",
        "def Type_casting(list_a):\n",
        "  int_l = []\n",
        "  Float_f =[]\n",
        "  str_s = []\n",
        "  for i in list_a:\n",
        "    # Type Cast in integer Value\n",
        "    try:\n",
        "      int_l.append(int(i))\n",
        "    except ValueError as e:\n",
        "      int_l.append(None) # if the element is not integer then append None,\n",
        "     # Type Cast in Float Value\n",
        "    try:\n",
        "      Float_f.append(float(i))\n",
        "    except ValueError as e:\n",
        "      Float_f.append(None) #if the element is not float then append None\n",
        "    #Type Cast in string\n",
        "    str_s.append(str(i)) # in the above condition is not satisfy then the element is string type\n",
        "  print(f\"Original List: {list_a}\")\n",
        "  print(f\"Integer list: {int_l}\")\n",
        "  print(f\"Float list: {Float_f}\")\n",
        "  print(f\"String list: {str_s}\")\n",
        "\n",
        "list_a = [1,2,3,4,'Hello',' Ashish', 9.0]\n",
        "Type_casting(list_a)"
      ],
      "metadata": {
        "colab": {
          "base_uri": "https://localhost:8080/"
        },
        "id": "rEXKfA-0RxNY",
        "outputId": "bd956e6b-16e9-429c-f0e8-d667ed04a64e"
      },
      "execution_count": null,
      "outputs": [
        {
          "output_type": "stream",
          "name": "stdout",
          "text": [
            "Original List: [1, 2, 3, 4, 'Hello', ' Ashish', 9.0]\n",
            "Integer list: [1, 2, 3, 4, None, None, 9]\n",
            "Float list: [1.0, 2.0, 3.0, 4.0, None, None, 9.0]\n",
            "String list: ['1', '2', '3', '4', 'Hello', ' Ashish', '9.0']\n"
          ]
        }
      ]
    },
    {
      "cell_type": "code",
      "source": [
        "# 11. Write a program that checks if a number is positive, negative, or zero.\n",
        "\n",
        "a= int(input('enter the value of a '))\n",
        "\n",
        "if a>0:\n",
        "  print('a is greater than 0 and it is a positive number')\n",
        "elif a<0:\n",
        "  print('a is less than 0 and it is a negative number')\n",
        "else:\n",
        "  print('a is equal to 0')"
      ],
      "metadata": {
        "colab": {
          "base_uri": "https://localhost:8080/"
        },
        "id": "y-9VIBWEHlvg",
        "outputId": "6bcc9d5b-ae9e-4807-d603-16702457ac84"
      },
      "execution_count": null,
      "outputs": [
        {
          "output_type": "stream",
          "name": "stdout",
          "text": [
            "enter the value of a 0\n",
            "a is equal to 0\n"
          ]
        }
      ]
    },
    {
      "cell_type": "code",
      "source": [
        "# 12. Write a for loop to print numbers from 1 to 10.\n",
        "\n",
        "for i in range(10):\n",
        "  print(f'No. is = {i+1}')"
      ],
      "metadata": {
        "colab": {
          "base_uri": "https://localhost:8080/"
        },
        "id": "HPvOVy3V1EUy",
        "outputId": "d7fc7563-269f-42b8-ecaf-ef86f05cbab5"
      },
      "execution_count": null,
      "outputs": [
        {
          "output_type": "stream",
          "name": "stdout",
          "text": [
            "No. is = 1\n",
            "No. is = 2\n",
            "No. is = 3\n",
            "No. is = 4\n",
            "No. is = 5\n",
            "No. is = 6\n",
            "No. is = 7\n",
            "No. is = 8\n",
            "No. is = 9\n",
            "No. is = 10\n"
          ]
        }
      ]
    },
    {
      "cell_type": "code",
      "source": [
        "# 13. Write a Python program to find the sum of all even numbers between 1 and 50.\n",
        "\n",
        "sum = 0\n",
        "for i in range(1,51):\n",
        "  if i % 2 == 0:\n",
        "    sum += i\n",
        "print(f\"Sum of all even numbers between 1 to 50 is = {sum}\")\n",
        "\n",
        "#Another way to solve same question\n",
        "\n",
        "#sum =0\n",
        "#for i in range(2,51,2):\n",
        "#  sum += i\n",
        "#print(f\"Sum of all even numbers between 1 to 50 is = {sum}\")"
      ],
      "metadata": {
        "colab": {
          "base_uri": "https://localhost:8080/"
        },
        "id": "5pQoOpKb1Nht",
        "outputId": "09aac3a5-c4ee-4947-b076-6c5dccf85895"
      },
      "execution_count": null,
      "outputs": [
        {
          "output_type": "stream",
          "name": "stdout",
          "text": [
            "Sum of all even numbers between 1 to 50 is = 650\n"
          ]
        }
      ]
    },
    {
      "cell_type": "code",
      "source": [
        "#14 Write a program to reverse a string using a while loop.\n",
        "\n",
        "def reverse_string(string):\n",
        "  reversed_string = \"\"\n",
        "  index = len(string) - 1\n",
        "  while index >=0:\n",
        "    reversed_string += string[index]\n",
        "    index -=1\n",
        "  return reversed_string\n",
        "\n",
        "string = input(\"Enter the string = \")\n",
        "rev_str = reverse_string(string)\n",
        "print(f\"Revesed string is {rev_str}\")"
      ],
      "metadata": {
        "colab": {
          "base_uri": "https://localhost:8080/"
        },
        "id": "KOCO2yFH1R69",
        "outputId": "cc66f5ba-338a-464f-a02d-8da2a56d4012"
      },
      "execution_count": null,
      "outputs": [
        {
          "output_type": "stream",
          "name": "stdout",
          "text": [
            "Enter the string = 'ashish'\n",
            "Revesed string is 'hsihsa'\n"
          ]
        }
      ]
    },
    {
      "cell_type": "code",
      "source": [
        "# 15. Write a Python program to calculate the factorial of a number provided by the user using a while loop.\n",
        "\n",
        "def fac(n):\n",
        "    factorial = 1\n",
        "    if n < 0:\n",
        "        print(\"Factorial is not defined for negative numbers\")\n",
        "        return None  # Return None for negative numbers\n",
        "    else:\n",
        "        while n > 0:\n",
        "            factorial *= n\n",
        "            n -= 1\n",
        "    return factorial\n",
        "\n",
        "try:\n",
        "    n = int(input(\"Enter the number = \"))\n",
        "    result = fac(n)\n",
        "    if result is not None:\n",
        "        print(f\"Factorial of {n} is {result}\")\n",
        "except ValueError as e:\n",
        "    print(f\"{e}. Please try again!\")"
      ],
      "metadata": {
        "colab": {
          "base_uri": "https://localhost:8080/"
        },
        "id": "EtQ8zJ2jRuhB",
        "outputId": "1d56bb6f-da3e-4e46-cbb2-b90de734cd3e"
      },
      "execution_count": null,
      "outputs": [
        {
          "output_type": "stream",
          "name": "stdout",
          "text": [
            "Enter the number = 10\n",
            "Factorial of 10 is 3628800\n"
          ]
        }
      ]
    }
  ]
}